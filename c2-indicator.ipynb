{
 "cells": [
  {
   "cell_type": "markdown",
   "metadata": {},
   "source": [
    "[tl;dr: Jump to the example](#STIX-C2-Indicator-Example)\n",
    "> # Preamble: Prototyping Environment\n",
    "This document is a Jupyter Notebook. First, we load some modules and create some utility classes..."
   ]
  },
  {
   "cell_type": "code",
   "execution_count": 322,
   "metadata": {
    "collapsed": false
   },
   "outputs": [],
   "source": [
    "%reload_ext yamlmagic\n",
    "from IPython.display import display, Markdown\n",
    "from pyld import jsonld\n",
    "\n",
    "from rdflib import Graph\n",
    "from RDFClosure import convert_graph, Options, DeductiveClosure\n",
    "from RDFClosure.CombinedClosure import RDFS_Semantics\n",
    "import json\n",
    "from datetime import datetime\n",
    "\n",
    "import jsonschema\n",
    "\n",
    "class ISODateEncoder(json.JSONEncoder):\n",
    "    # JSON encoder that serializes datetimes to ISO 8601 strings\n",
    "    def default(self, obj, *args, **kwargs):\n",
    "        if isinstance(obj, datetime):\n",
    "            return obj.isoformat()\n",
    "        return json.JSONEncoder.default(self, obj, *args, **kwargs)\n",
    "\n",
    "def graph_metrics(graph, label):\n",
    "    display(Markdown(\"{}, the graph contains {} triples about {} subjects and {} objects using {} predicates.\".format(\n",
    "        label, len(graph), len(set(graph.subjects())), len(set(graph.objects())), len(set(graph.predicates()))\n",
    "    )))"
   ]
  },
  {
   "cell_type": "markdown",
   "metadata": {},
   "source": [
    "> ...and customize our environment for displaying large text..."
   ]
  },
  {
   "cell_type": "code",
   "execution_count": 289,
   "metadata": {
    "collapsed": false
   },
   "outputs": [
    {
     "data": {
      "text/html": [
       "<style>#notebook-container { width: 97vw; }</style>"
      ],
      "text/plain": [
       "<IPython.core.display.HTML object>"
      ]
     },
     "metadata": {},
     "output_type": "display_data"
    }
   ],
   "source": [
    "%%html\n",
    "<style>#notebook-container { width: 97vw; }</style>"
   ]
  },
  {
   "cell_type": "markdown",
   "metadata": {},
   "source": [
    "# STIX _C2 Indicator_ Example\n",
    "The STIX [C2 Indicator](http://stixproject.github.io/documentation/idioms/c2-indicator/) describes the data of a single event of interest in the reporting of a cyber incident:\n",
    "![](http://stixproject.github.io/documentation/idioms/c2-indicator/diagram.png)"
   ]
  },
  {
   "cell_type": "markdown",
   "metadata": {},
   "source": [
    "# Goal\n",
    "\n",
    "Instead of a rigid, _document_-based approach to modeling the incident, we propose a graph-based approach using JSON-LD, RDF and RDF Schema.\n",
    "\n",
    "First, let's look at the canonical XML."
   ]
  },
  {
   "cell_type": "code",
   "execution_count": 290,
   "metadata": {
    "collapsed": false
   },
   "outputs": [
    {
     "data": {
      "text/markdown": [
       "```xml\n",
       "<stix:STIX_Package\n",
       "    xmlns:xsi=\"http://www.w3.org/2001/XMLSchema-instance\"\n",
       "    xmlns:stix=\"http://stix.mitre.org/stix-1\"\n",
       "    xmlns:stixCommon=\"http://stix.mitre.org/common-1\"\n",
       "    xmlns:indicator=\"http://stix.mitre.org/Indicator-2\"\n",
       "    xmlns:ttp=\"http://stix.mitre.org/TTP-1\"\n",
       "    xmlns:cybox=\"http://cybox.mitre.org/cybox-2\"\n",
       "    xmlns:AddressObject=\"http://cybox.mitre.org/objects#AddressObject-2\"\n",
       "    xmlns:stixVocabs=\"http://stix.mitre.org/default_vocabularies-1\"\n",
       "    xmlns:example=\"http://example.com/\"\n",
       "    xsi:schemaLocation=\"\n",
       "    http://stix.mitre.org/stix-1 http://stix.mitre.org/XMLSchema/core/1.2/stix_core.xsd\n",
       "    http://stix.mitre.org/Indicator-2 http://stix.mitre.org/XMLSchema/indicator/2.2/indicator.xsd\n",
       "    http://stix.mitre.org/TTP-2 http://stix.mitre.org/XMLSchema/ttp/1.2/ttp.xsd\n",
       "    http://stix.mitre.org/default_vocabularies-1 http://stix.mitre.org/XMLSchema/default_vocabularies/1.2.0/stix_default_vocabularies.xsd\n",
       "    http://cybox.mitre.org/objects#AddressObject-2 http://cybox.mitre.org/XMLSchema/objects/Address/2.1/Address_Object.xsd\"\n",
       "    id=\"example:STIXPackage-33fe3b22-0201-47cf-85d0-97c02164528d\"\n",
       "\n",
       "    version=\"1.2\"\n",
       "    >\n",
       "    <stix:Indicators>\n",
       "        <stix:Indicator xsi:type=\"indicator:IndicatorType\" id=\"example:Indicator-33fe3b22-0201-47cf-85d0-97c02164528d\" timestamp=\"2014-05-08T09:00:00.000000Z\">\n",
       "            <indicator:Title>IP Address for known C2 channel</indicator:Title>\n",
       "            <indicator:Type xsi:type=\"stixVocabs:IndicatorTypeVocab-1.1\">IP Watchlist</indicator:Type>\n",
       "            <indicator:Observable  id=\"example:Observable-1c798262-a4cd-434d-a958-884d6980c459\">\n",
       "                <cybox:Object id=\"example:Object-1980ce43-8e03-490b-863a-ea404d12242e\">\n",
       "                    <cybox:Properties xsi:type=\"AddressObject:AddressObjectType\" category=\"ipv4-addr\">\n",
       "                        <AddressObject:Address_Value condition=\"Equals\">10.0.0.0</AddressObject:Address_Value>\n",
       "                    </cybox:Properties>\n",
       "                </cybox:Object>\n",
       "            </indicator:Observable>\n",
       "            <indicator:Indicated_TTP>\n",
       "                <stixCommon:TTP idref=\"example:TTP-bc66360d-a7d1-4d8c-ad1a-ea3a13d62da9\" />\n",
       "            </indicator:Indicated_TTP>\n",
       "        </stix:Indicator>\n",
       "    </stix:Indicators>\n",
       "    <stix:TTPs>\n",
       "        <stix:TTP xsi:type=\"ttp:TTPType\" id=\"example:TTP-bc66360d-a7d1-4d8c-ad1a-ea3a13d62da9\" timestamp=\"2014-05-08T09:00:00.000000Z\">\n",
       "            <ttp:Title>C2 Behavior</ttp:Title>\n",
       "        </stix:TTP>\n",
       "    </stix:TTPs>\n",
       "</stix:STIX_Package>\n",
       "\n",
       "```"
      ],
      "text/plain": [
       "<IPython.core.display.Markdown object>"
      ]
     },
     "metadata": {},
     "output_type": "display_data"
    }
   ],
   "source": [
    "with open(\"indicator-for-c2-ip-address.xml\") as f:\n",
    "    canonical = f.read()\n",
    "    display(Markdown(\"```xml\\n{}\\n```\".format(canonical)))"
   ]
  },
  {
   "cell_type": "markdown",
   "metadata": {},
   "source": [
    "# First approach: Modeling the XML\n",
    "As an initial approach, let's just try to make a document that is as close as possible to the XML.\n",
    "\n",
    "The JSON-LD context (here expressed as YAML for readability) fulfills much of the same role as the `xmlns:` parts of the XML declaration.\n",
    "\n",
    "- Where an un-prefixed key is used, a suitable W3C or comparable spec is used.\n",
    "- All type-like things are conflated into `@type`, a shorthand for `rdf:type`.\n",
    "- All identity-like things are conflated into `@id`, or the URI of a node.\n",
    "- Since RDF has no general concept of \"containment\", each such relationship is captured as a \"pun,\" a lowercase version of the contained element: if \n",
    "  > an element `X` contains an element `Y`\n",
    "  \n",
    "  we say \n",
    "  \n",
    "  > a node of type `X` `y`'s a node of type `Y`"
   ]
  },
  {
   "cell_type": "code",
   "execution_count": 291,
   "metadata": {
    "collapsed": false
   },
   "outputs": [
    {
     "data": {
      "application/javascript": [
       "\n",
       "            require(\n",
       "                [\n",
       "                    \"notebook/js/codecell\",\n",
       "                    \"codemirror/mode/yaml/yaml\"\n",
       "                ],\n",
       "                function(cc){\n",
       "                    cc.CodeCell.options_default.highlight_modes.magic_yaml = {\n",
       "                        reg: [\"^%%yaml\"]\n",
       "                    }\n",
       "                }\n",
       "            );\n",
       "            "
      ],
      "text/plain": [
       "<IPython.core.display.Javascript object>"
      ]
     },
     "metadata": {},
     "output_type": "display_data"
    }
   ],
   "source": [
    "%%yaml context\n",
    "\"@context\":\n",
    "    xsi: http://www.w3.org/2001/XMLSchema-instance#\n",
    "    stx: http://stix.mitre.org/\n",
    "    stix: stx:stix-1#\n",
    "    stixCommon: stx:common-1#\n",
    "    indicator: stx:Indicator-2#\n",
    "    ttp: stx:TTP-1#\n",
    "    cbx: http://cybox.mitre.org/\n",
    "    cybox: cbx:cybox-2#\n",
    "    obj: cbx:objects#\n",
    "    AddressObject: obj:AddressObject-2#\n",
    "    stixVocabs: stx:default_vocabularies-1#\n",
    "    example: http://example.com/\n",
    "    id: \"@id\"\n",
    "    prov: http://www.w3.org/ns/prov#\n",
    "    owl: http://www.w3.org/2002/07/owl#\n",
    "    rdf: http://www.w3.org/1999/02/22-rdf-syntax-ns#\n",
    "    rdfs: http://www.w3.org/2000/01/rdf-schema#\n",
    "    xsd: http://www.w3.org/2001/XMLSchema#\n",
    "    title: rdfs:label\n",
    "    skos: http://www.w3.org/2004/02/skos/core#\n",
    "    prov:wasRevisionOf:\n",
    "        \"@type\": \"@id\"\n",
    "    category:\n",
    "        \"@id\": skos:related\n",
    "        \"@type\": \"@id\"\n",
    "    type:\n",
    "        \"@id\": \"@type\"\n",
    "        \"@type\": \"@id\"\n",
    "    timestamp:\n",
    "        \"@id\": prov:generatedAtTime\n",
    "        \"@type\": xsd:dateTime"
   ]
  },
  {
   "cell_type": "markdown",
   "metadata": {},
   "source": [
    "With that out of the way, we can now use the namespace prefixes to speak precisely about the types of nodes."
   ]
  },
  {
   "cell_type": "code",
   "execution_count": 292,
   "metadata": {
    "collapsed": false
   },
   "outputs": [
    {
     "data": {
      "application/javascript": [
       "\n",
       "            require(\n",
       "                [\n",
       "                    \"notebook/js/codecell\",\n",
       "                    \"codemirror/mode/yaml/yaml\"\n",
       "                ],\n",
       "                function(cc){\n",
       "                    cc.CodeCell.options_default.highlight_modes.magic_yaml = {\n",
       "                        reg: [\"^%%yaml\"]\n",
       "                    }\n",
       "                }\n",
       "            );\n",
       "            "
      ],
      "text/plain": [
       "<IPython.core.display.Javascript object>"
      ]
     },
     "metadata": {},
     "output_type": "display_data"
    }
   ],
   "source": [
    "%%yaml doc\n",
    "id: example:STIXPackage-33fe3b22-0201-47cf-85d0-97c02164528d#1.2\n",
    "prov:wasRevisionOf: example:STIXPackage-33fe3b22-0201-47cf-85d0-97c02164528d#1.1\n",
    "type: stix:STIX_Package\n",
    "stix:indicators:\n",
    "    type: stix:Indicators\n",
    "    stix:indicator:\n",
    "        - type:\n",
    "            - stix:Indicator\n",
    "            - stixVocabs:IndicatorTypeVocab-1.1#IPWatchlist\n",
    "          id: example:Indicator-33fe3b22-0201-47cf-85d0-97c02164528d\n",
    "          timestamp: 2014-05-08T09:00:00.000000Z\n",
    "          title: IP Address for known C2 channel\n",
    "          indicator:observable:\n",
    "              type: indicator:Observable\n",
    "              id: example:Observable-1c798262-a4cd-434d-a958-884d6980c459\n",
    "              cybox:object:\n",
    "                  type: cybox:Object\n",
    "                  id: example:Object-1980ce43-8e03-490b-863a-ea404d12242e\n",
    "                  cybox:properties:\n",
    "                     type: cybox:Properties xsi:type=\"AddressObject:AddressObjectType\" category=\"ipv4-addr\">\n",
    "                     category: ipv4-addr\n",
    "                     AddressObject:address_value:\n",
    "                         type: AddressObject:Address_Value\n",
    "                         condition:equals: 10.0.0.0\n",
    "          indicator:indicated_ttp:\n",
    "              type: indicator:Indicated_TTP\n",
    "              stixCommon:ttp: example:TTP-bc66360d-a7d1-4d8c-ad1a-ea3a13d62da9\n",
    "stix:ttps:\n",
    "    type: stix:TTPS\n",
    "    stix:ttp:\n",
    "        type: stix:TTP\n",
    "        id: example:TTP-bc66360d-a7d1-4d8c-ad1a-ea3a13d62da9\n",
    "        timestamp: 2014-05-08T09:00:00.000000Z\n",
    "        title: C2 Behavior"
   ]
  },
  {
   "cell_type": "markdown",
   "metadata": {},
   "source": [
    "One of the core features of JSON-LD, the `expand` algorithm all implementations _must_ provide will replace all of the URI prefixes with fully-qualified domains."
   ]
  },
  {
   "cell_type": "code",
   "execution_count": 293,
   "metadata": {
    "collapsed": false
   },
   "outputs": [
    {
     "data": {
      "text/plain": [
       "[{'@id': 'http://example.com/STIXPackage-33fe3b22-0201-47cf-85d0-97c02164528d#1.2',\n",
       "  '@type': ['http://stix.mitre.org/stix-1#STIX_Package'],\n",
       "  'http://stix.mitre.org/stix-1#indicators': [{'@type': ['http://stix.mitre.org/stix-1#Indicators'],\n",
       "    'http://stix.mitre.org/stix-1#indicator': [{'@id': 'http://example.com/Indicator-33fe3b22-0201-47cf-85d0-97c02164528d',\n",
       "      '@type': ['http://stix.mitre.org/stix-1#Indicator',\n",
       "       'http://stix.mitre.org/default_vocabularies-1#IndicatorTypeVocab-1.1#IPWatchlist'],\n",
       "      'http://stix.mitre.org/Indicator-2#indicated_ttp': [{'@type': ['http://stix.mitre.org/Indicator-2#Indicated_TTP'],\n",
       "        'http://stix.mitre.org/common-1#ttp': [{'@value': 'example:TTP-bc66360d-a7d1-4d8c-ad1a-ea3a13d62da9'}]}],\n",
       "      'http://stix.mitre.org/Indicator-2#observable': [{'@id': 'http://example.com/Observable-1c798262-a4cd-434d-a958-884d6980c459',\n",
       "        '@type': ['http://stix.mitre.org/Indicator-2#Observable'],\n",
       "        'http://cybox.mitre.org/cybox-2#object': [{'@id': 'http://example.com/Object-1980ce43-8e03-490b-863a-ea404d12242e',\n",
       "          '@type': ['http://cybox.mitre.org/cybox-2#Object'],\n",
       "          'http://cybox.mitre.org/cybox-2#properties': [{'@type': ['http://cybox.mitre.org/cybox-2#Properties xsi:type=\"AddressObject:AddressObjectType\" category=\"ipv4-addr\">'],\n",
       "            'http://cybox.mitre.org/objects#AddressObject-2#address_value': [{'@type': ['http://cybox.mitre.org/objects#AddressObject-2#Address_Value'],\n",
       "              'condition:equals': [{'@value': '10.0.0.0'}]}],\n",
       "            'http://www.w3.org/2004/02/skos/core#related': [{'@id': 'ipv4-addr'}]}]}]}],\n",
       "      'http://www.w3.org/2000/01/rdf-schema#label': [{'@value': 'IP Address for known C2 channel'}],\n",
       "      'http://www.w3.org/ns/prov#generatedAtTime': [{'@type': 'http://www.w3.org/2001/XMLSchema#dateTime',\n",
       "        '@value': datetime.datetime(2014, 5, 8, 9, 0)}]}]}],\n",
       "  'http://stix.mitre.org/stix-1#ttps': [{'@type': ['http://stix.mitre.org/stix-1#TTPS'],\n",
       "    'http://stix.mitre.org/stix-1#ttp': [{'@id': 'http://example.com/TTP-bc66360d-a7d1-4d8c-ad1a-ea3a13d62da9',\n",
       "      '@type': ['http://stix.mitre.org/stix-1#TTP'],\n",
       "      'http://www.w3.org/2000/01/rdf-schema#label': [{'@value': 'C2 Behavior'}],\n",
       "      'http://www.w3.org/ns/prov#generatedAtTime': [{'@type': 'http://www.w3.org/2001/XMLSchema#dateTime',\n",
       "        '@value': datetime.datetime(2014, 5, 8, 9, 0)}]}]}],\n",
       "  'http://www.w3.org/ns/prov#wasRevisionOf': [{'@id': 'http://example.com/STIXPackage-33fe3b22-0201-47cf-85d0-97c02164528d#1.1'}]}]"
      ]
     },
     "execution_count": 293,
     "metadata": {},
     "output_type": "execute_result"
    }
   ],
   "source": [
    "jsonld.expand(doc, dict(expandContext=context))"
   ]
  },
  {
   "cell_type": "markdown",
   "metadata": {},
   "source": [
    "The `compact` algorithm will take a document and a context and repackage it."
   ]
  },
  {
   "cell_type": "code",
   "execution_count": 294,
   "metadata": {
    "collapsed": false
   },
   "outputs": [
    {
     "data": {
      "text/plain": [
       "{'@context': {'AddressObject': 'obj:AddressObject-2#',\n",
       "  'category': {'@id': 'skos:related', '@type': '@id'},\n",
       "  'cbx': 'http://cybox.mitre.org/',\n",
       "  'cybox': 'cbx:cybox-2#',\n",
       "  'example': 'http://example.com/',\n",
       "  'id': '@id',\n",
       "  'indicator': 'stx:Indicator-2#',\n",
       "  'obj': 'cbx:objects#',\n",
       "  'owl': 'http://www.w3.org/2002/07/owl#',\n",
       "  'prov': 'http://www.w3.org/ns/prov#',\n",
       "  'prov:wasRevisionOf': {'@type': '@id'},\n",
       "  'rdf': 'http://www.w3.org/1999/02/22-rdf-syntax-ns#',\n",
       "  'rdfs': 'http://www.w3.org/2000/01/rdf-schema#',\n",
       "  'skos': 'http://www.w3.org/2004/02/skos/core#',\n",
       "  'stix': 'stx:stix-1#',\n",
       "  'stixCommon': 'stx:common-1#',\n",
       "  'stixVocabs': 'stx:default_vocabularies-1#',\n",
       "  'stx': 'http://stix.mitre.org/',\n",
       "  'timestamp': {'@id': 'prov:generatedAtTime', '@type': 'xsd:dateTime'},\n",
       "  'title': 'rdfs:label',\n",
       "  'ttp': 'stx:TTP-1#',\n",
       "  'type': {'@id': '@type', '@type': '@id'},\n",
       "  'xsd': 'http://www.w3.org/2001/XMLSchema#',\n",
       "  'xsi': 'http://www.w3.org/2001/XMLSchema-instance#'},\n",
       " 'id': 'example:STIXPackage-33fe3b22-0201-47cf-85d0-97c02164528d#1.2',\n",
       " 'prov:wasRevisionOf': 'example:STIXPackage-33fe3b22-0201-47cf-85d0-97c02164528d#1.1',\n",
       " 'stix:indicators': {'stix:indicator': {'id': 'example:Indicator-33fe3b22-0201-47cf-85d0-97c02164528d',\n",
       "   'indicator:indicated_ttp': {'stixCommon:ttp': 'example:TTP-bc66360d-a7d1-4d8c-ad1a-ea3a13d62da9',\n",
       "    'type': 'indicator:Indicated_TTP'},\n",
       "   'indicator:observable': {'cybox:object': {'cybox:properties': {'AddressObject:address_value': {'condition:equals': '10.0.0.0',\n",
       "       'type': 'AddressObject:Address_Value'},\n",
       "      'category': 'ipv4-addr',\n",
       "      'type': 'cybox:Properties xsi:type=\"AddressObject:AddressObjectType\" category=\"ipv4-addr\">'},\n",
       "     'id': 'example:Object-1980ce43-8e03-490b-863a-ea404d12242e',\n",
       "     'type': 'cybox:Object'},\n",
       "    'id': 'example:Observable-1c798262-a4cd-434d-a958-884d6980c459',\n",
       "    'type': 'indicator:Observable'},\n",
       "   'timestamp': datetime.datetime(2014, 5, 8, 9, 0),\n",
       "   'title': 'IP Address for known C2 channel',\n",
       "   'type': ['stix:Indicator',\n",
       "    'stixVocabs:IndicatorTypeVocab-1.1#IPWatchlist']},\n",
       "  'type': 'stix:Indicators'},\n",
       " 'stix:ttps': {'stix:ttp': {'id': 'example:TTP-bc66360d-a7d1-4d8c-ad1a-ea3a13d62da9',\n",
       "   'timestamp': datetime.datetime(2014, 5, 8, 9, 0),\n",
       "   'title': 'C2 Behavior',\n",
       "   'type': 'stix:TTP'},\n",
       "  'type': 'stix:TTPS'},\n",
       " 'type': 'stix:STIX_Package'}"
      ]
     },
     "execution_count": 294,
     "metadata": {},
     "output_type": "execute_result"
    }
   ],
   "source": [
    "jsonld.compact(doc, context, dict(expandContext=context))"
   ]
  },
  {
   "cell_type": "markdown",
   "metadata": {},
   "source": [
    "# Second Approach: RDFS Inference"
   ]
  },
  {
   "cell_type": "markdown",
   "metadata": {},
   "source": [
    "Assuming the `rdfs:range` and `rdfs:domain` inference capabilities, and definition of the lower-case \"puns\" from above (such that, _if `X` `y`'s `Z`, then `Z` is a `Y`_), many `type` definitions can be omitted without any loss of information. Here's what the context for defining some RDFS inference would be like:"
   ]
  },
  {
   "cell_type": "code",
   "execution_count": 295,
   "metadata": {
    "collapsed": false
   },
   "outputs": [
    {
     "data": {
      "application/javascript": [
       "\n",
       "            require(\n",
       "                [\n",
       "                    \"notebook/js/codecell\",\n",
       "                    \"codemirror/mode/yaml/yaml\"\n",
       "                ],\n",
       "                function(cc){\n",
       "                    cc.CodeCell.options_default.highlight_modes.magic_yaml = {\n",
       "                        reg: [\"^%%yaml\"]\n",
       "                    }\n",
       "                }\n",
       "            );\n",
       "            "
      ],
      "text/plain": [
       "<IPython.core.display.Javascript object>"
      ]
     },
     "metadata": {},
     "output_type": "display_data"
    }
   ],
   "source": [
    "%%yaml doc_with_rdfs_inference\n",
    "id: example:STIXPackage-33fe3b22-0201-47cf-85d0-97c02164528d#1.2\n",
    "prov:wasRevisionOf: example:STIXPackage-33fe3b22-0201-47cf-85d0-97c02164528d#1.1\n",
    "type: stix:STIX_Package\n",
    "stix:indicators:\n",
    "    stix:indicator:\n",
    "        type: stixVocabs:IndicatorTypeVocab-1.1#IPWatchlist\n",
    "        id: example:Indicator-33fe3b22-0201-47cf-85d0-97c02164528d\n",
    "        timestamp: 2014-05-08T09:00:00.000000Z\n",
    "        title: IP Address for known C2 channel\n",
    "        indicator:observable:\n",
    "            id: example:Observable-1c798262-a4cd-434d-a958-884d6980c459\n",
    "            cybox:object:\n",
    "                id: example:Object-1980ce43-8e03-490b-863a-ea404d12242e\n",
    "                cybox:properties:\n",
    "                    category: ipv4-addr\n",
    "                    AddressObject:address_value:\n",
    "                        condition:equals: 10.0.0.0\n",
    "        indicator:indicated_ttp:\n",
    "            id: example:TTP-bc66360d-a7d1-4d8c-ad1a-ea3a13d62da9\n",
    "stix:ttps:\n",
    "    stix:ttp:\n",
    "        id: example:TTP-bc66360d-a7d1-4d8c-ad1a-ea3a13d62da9\n",
    "        timestamp: 2014-05-08T09:00:00.000000Z\n",
    "        title: C2 Behavior"
   ]
  },
  {
   "cell_type": "markdown",
   "metadata": {},
   "source": [
    "This removes a good deal of boilerplate: indeed, we are approaching the spareness of the original diagram. Using the explicit structure of the document requires a fair amount of work."
   ]
  },
  {
   "cell_type": "code",
   "execution_count": 296,
   "metadata": {
    "collapsed": false
   },
   "outputs": [
    {
     "data": {
      "application/javascript": [
       "\n",
       "            require(\n",
       "                [\n",
       "                    \"notebook/js/codecell\",\n",
       "                    \"codemirror/mode/yaml/yaml\"\n",
       "                ],\n",
       "                function(cc){\n",
       "                    cc.CodeCell.options_default.highlight_modes.magic_yaml = {\n",
       "                        reg: [\"^%%yaml\"]\n",
       "                    }\n",
       "                }\n",
       "            );\n",
       "            "
      ],
      "text/plain": [
       "<IPython.core.display.Javascript object>"
      ]
     },
     "metadata": {},
     "output_type": "display_data"
    }
   ],
   "source": [
    "%%yaml rdfs_puns_context\n",
    "\"@context\":\n",
    "    domain:\n",
    "        \"@id\": rdfs:domain\n",
    "        \"@type\": \"@id\"\n",
    "    range:\n",
    "        \"@id\": rdfs:range\n",
    "        \"@type\": \"@id\"\n",
    "    defines:\n",
    "        \"@reverse\": rdfs:isDefinedBy"
   ]
  },
  {
   "cell_type": "markdown",
   "metadata": {},
   "source": [
    "We'll reuse the original context, so that documents can be defined in terms of both."
   ]
  },
  {
   "cell_type": "code",
   "execution_count": 297,
   "metadata": {
    "collapsed": false
   },
   "outputs": [],
   "source": [
    "combined_context = {\"@context\": [\n",
    "    context[\"@context\"],\n",
    "    rdfs_puns_context[\"@context\"]\n",
    "]}"
   ]
  },
  {
   "cell_type": "markdown",
   "metadata": {},
   "source": [
    "Here are the actual puns, stored in an OWL Ontology."
   ]
  },
  {
   "cell_type": "code",
   "execution_count": 298,
   "metadata": {
    "collapsed": false
   },
   "outputs": [
    {
     "data": {
      "application/javascript": [
       "\n",
       "            require(\n",
       "                [\n",
       "                    \"notebook/js/codecell\",\n",
       "                    \"codemirror/mode/yaml/yaml\"\n",
       "                ],\n",
       "                function(cc){\n",
       "                    cc.CodeCell.options_default.highlight_modes.magic_yaml = {\n",
       "                        reg: [\"^%%yaml\"]\n",
       "                    }\n",
       "                }\n",
       "            );\n",
       "            "
      ],
      "text/plain": [
       "<IPython.core.display.Javascript object>"
      ]
     },
     "metadata": {},
     "output_type": "display_data"
    }
   ],
   "source": [
    "%%yaml rdfs_puns\n",
    "id: stix:stix-rdfs-puns\n",
    "type: owl:Ontology\n",
    "defines:\n",
    "    - id: stix:indicators\n",
    "      range: stix:Indicators\n",
    "    - id: stix:indicator\n",
    "      range: stix:Indicator\n",
    "    - id: indicator:observable\n",
    "      range: indicator:Observable\n",
    "    - id: cybox:object\n",
    "      range: cybox:Object \n",
    "    - id: cybox:properties\n",
    "      range: cybox:Properties\n",
    "    - id: indicator:indicated_ttp\n",
    "      range: indicator:Indicated_TTP\n",
    "    - id: stix:ttps\n",
    "      range: stix:TTPS\n",
    "    - id: stix:ttp\n",
    "      range: stix:TTP\n",
    "    - id: AddressObject:address_value\n",
    "      range: AddressObject:Address_Value"
   ]
  },
  {
   "cell_type": "markdown",
   "metadata": {},
   "source": [
    "We now have to move away from the JSON-LD linked data regime and into the metamodel layer of RDF Schema. First, we create a graph and populate it with our JSON-LD about the Indicator, as well as our rules for determing meaning from our puns. Note, this is significant departure from XML, where schema and content are seldom discussable in the same kinds of queries."
   ]
  },
  {
   "cell_type": "code",
   "execution_count": 308,
   "metadata": {
    "collapsed": false
   },
   "outputs": [
    {
     "data": {
      "text/markdown": [
       "After adding puns, the graph contains 19 triples about 10 subjects and 11 objects using 3 predicates."
      ],
      "text/plain": [
       "<IPython.core.display.Markdown object>"
      ]
     },
     "metadata": {},
     "output_type": "display_data"
    },
    {
     "data": {
      "text/markdown": [
       "After adding indicator, the graph contains 37 triples about 19 subjects and 27 objects using 17 predicates."
      ],
      "text/plain": [
       "<IPython.core.display.Markdown object>"
      ]
     },
     "metadata": {},
     "output_type": "display_data"
    }
   ],
   "source": [
    "graph = Graph()\n",
    "for key, to_parse in {\"puns\": rdfs_puns, \"indicator\": doc_with_rdfs_inference}.items():\n",
    "    expanded = jsonld.expand(to_parse, dict(expandContext=combined_context))\n",
    "    cleaned = json.dumps(expanded, cls=ISODateEncoder)\n",
    "    graph.parse(data=cleaned, format=\"json-ld\")\n",
    "    graph_metrics(graph, \"After adding {}\".format(key))"
   ]
  },
  {
   "cell_type": "markdown",
   "metadata": {},
   "source": [
    "Now the real magic happens. By applying deductive inference, we expand the graph to include all possible inferrable values."
   ]
  },
  {
   "cell_type": "code",
   "execution_count": 309,
   "metadata": {
    "collapsed": false
   },
   "outputs": [
    {
     "data": {
      "text/markdown": [
       "After adding inference, the graph contains 116 triples about 43 subjects and 47 objects using 18 predicates."
      ],
      "text/plain": [
       "<IPython.core.display.Markdown object>"
      ]
     },
     "metadata": {},
     "output_type": "display_data"
    }
   ],
   "source": [
    "DeductiveClosure(RDFS_Semantics).expand(graph)\n",
    "graph_metrics(graph, \"After adding inference\")"
   ]
  },
  {
   "cell_type": "markdown",
   "metadata": {},
   "source": [
    "Now the graph should contain all of the inferred types. We use the simple slicing notation of rdflib to verify our inferred triples about the `Indicator`."
   ]
  },
  {
   "cell_type": "code",
   "execution_count": 318,
   "metadata": {
    "collapsed": false
   },
   "outputs": [
    {
     "data": {
      "text/plain": [
       "[(rdflib.term.URIRef('http://stix.mitre.org/Indicator-2#indicated_ttp'),\n",
       "  rdflib.term.URIRef('http://example.com/TTP-bc66360d-a7d1-4d8c-ad1a-ea3a13d62da9')),\n",
       " (rdflib.term.URIRef('http://stix.mitre.org/Indicator-2#observable'),\n",
       "  rdflib.term.URIRef('http://example.com/Observable-1c798262-a4cd-434d-a958-884d6980c459')),\n",
       " (rdflib.term.URIRef('http://www.w3.org/1999/02/22-rdf-syntax-ns#type'),\n",
       "  rdflib.term.URIRef('http://stix.mitre.org/default_vocabularies-1#IndicatorTypeVocab-1.1#IPWatchlist')),\n",
       " (rdflib.term.URIRef('http://www.w3.org/1999/02/22-rdf-syntax-ns#type'),\n",
       "  rdflib.term.URIRef('http://stix.mitre.org/stix-1#Indicator')),\n",
       " (rdflib.term.URIRef('http://www.w3.org/1999/02/22-rdf-syntax-ns#type'),\n",
       "  rdflib.term.URIRef('http://www.w3.org/2000/01/rdf-schema#Resource')),\n",
       " (rdflib.term.URIRef('http://www.w3.org/2000/01/rdf-schema#label'),\n",
       "  rdflib.term.Literal('IP Address for known C2 channel')),\n",
       " (rdflib.term.URIRef('http://www.w3.org/ns/prov#generatedAtTime'),\n",
       "  rdflib.term.Literal('2014-05-08T09:00:00', datatype=rdflib.term.URIRef('http://www.w3.org/2001/XMLSchema#dateTime')))]"
      ]
     },
     "execution_count": 318,
     "metadata": {},
     "output_type": "execute_result"
    }
   ],
   "source": [
    "from rdflib.term import URIRef as uri\n",
    "sorted(list(graph[uri(\"http://example.com/Indicator-33fe3b22-0201-47cf-85d0-97c02164528d\")::]))"
   ]
  },
  {
   "cell_type": "markdown",
   "metadata": {},
   "source": [
    "# A Concrete Syntax\n",
    "Combining JSON-LD with [JSON Schema](http://json-schema.org/), one can describe a new canonical format that can serve as the basis for API representations, storage and publishing without sacrificing expressive power or tersness, while not _requiring_ a user of the data to use or understand either schema or context. In this setting, we'd like to remove all idiosyncratic references to namespaces, etc. and be left with something that a user-focused RESTful API developer might create. This might require re-mapping some earlier constructs, as `indicator` might be a nice key, but can't also be a namespace."
   ]
  },
  {
   "cell_type": "code",
   "execution_count": 338,
   "metadata": {
    "collapsed": false
   },
   "outputs": [
    {
     "data": {
      "application/javascript": [
       "\n",
       "            require(\n",
       "                [\n",
       "                    \"notebook/js/codecell\",\n",
       "                    \"codemirror/mode/yaml/yaml\"\n",
       "                ],\n",
       "                function(cc){\n",
       "                    cc.CodeCell.options_default.highlight_modes.magic_yaml = {\n",
       "                        reg: [\"^%%yaml\"]\n",
       "                    }\n",
       "                }\n",
       "            );\n",
       "            "
      ],
      "text/plain": [
       "<IPython.core.display.Javascript object>"
      ]
     },
     "metadata": {},
     "output_type": "display_data"
    }
   ],
   "source": [
    "%%yaml canonical_doc\n",
    "id: example:STIXPackage-33fe3b22-0201-47cf-85d0-97c02164528d#1.2\n",
    "prov:wasRevisionOf: example:STIXPackage-33fe3b22-0201-47cf-85d0-97c02164528d#1.1\n",
    "type: stix:STIX_Package\n",
    "stix:indicators:\n",
    "    stix:indicator:\n",
    "        type: stixVocabs:IndicatorTypeVocab-1.1#IPWatchlist\n",
    "        id: example:Indicator-33fe3b22-0201-47cf-85d0-97c02164528d\n",
    "        timestamp: 2014-05-08T09:00:00.000000Z\n",
    "        title: IP Address for known C2 channel\n",
    "        indicator:observable:\n",
    "            id: example:Observable-1c798262-a4cd-434d-a958-884d6980c459\n",
    "            cybox:object:\n",
    "                id: example:Object-1980ce43-8e03-490b-863a-ea404d12242e\n",
    "                cybox:properties:\n",
    "                    category: ipv4-addr\n",
    "                    AddressObject:address_value:\n",
    "                        condition:equals: 10.0.0.0\n",
    "        indicator:indicated_ttp:\n",
    "            id: example:TTP-bc66360d-a7d1-4d8c-ad1a-ea3a13d62da9\n",
    "stix:ttps:\n",
    "    stix:ttp:\n",
    "        id: example:TTP-bc66360d-a7d1-4d8c-ad1a-ea3a13d62da9\n",
    "        timestamp: 2014-05-08T09:00:00.000000Z\n",
    "        title: C2 Behavior"
   ]
  },
  {
   "cell_type": "markdown",
   "metadata": {},
   "source": [
    "Here is an incomplete JSON schema for a STIX package. "
   ]
  },
  {
   "cell_type": "code",
   "execution_count": 366,
   "metadata": {
    "collapsed": false
   },
   "outputs": [
    {
     "data": {
      "application/javascript": [
       "\n",
       "            require(\n",
       "                [\n",
       "                    \"notebook/js/codecell\",\n",
       "                    \"codemirror/mode/yaml/yaml\"\n",
       "                ],\n",
       "                function(cc){\n",
       "                    cc.CodeCell.options_default.highlight_modes.magic_yaml = {\n",
       "                        reg: [\"^%%yaml\"]\n",
       "                    }\n",
       "                }\n",
       "            );\n",
       "            "
      ],
      "text/plain": [
       "<IPython.core.display.Javascript object>"
      ]
     },
     "metadata": {},
     "output_type": "display_data"
    }
   ],
   "source": [
    "%%yaml package_schema\n",
    "$schema: http://json-schema.org/schema#\n",
    "\n",
    "title: A STIX Package\n",
    "type: object\n",
    "required:\n",
    "    - type\n",
    "    - id\n",
    "properties:\n",
    "    stix:indicators:\n",
    "        $ref: \"#/definitions/indicators\"\n",
    "    stix:ttps:\n",
    "        $ref: \"#/definitions/ttps\"\n",
    "    id:\n",
    "        $ref: \"#/definitions/uri\"\n",
    "    type:\n",
    "        enum:\n",
    "            - stix:STIX_Package\n",
    "definitions:\n",
    "    uri:\n",
    "        type: string # regex for URIs is outside of scope!\n",
    "    indicators:\n",
    "        type: object\n",
    "        required:\n",
    "            - stix:indicator\n",
    "        properties:\n",
    "            stix:indicator:\n",
    "                $ref: \"#/definitions/indicator\"\n",
    "    indicator:\n",
    "        type: object\n",
    "        required:\n",
    "            - id\n",
    "        properties:\n",
    "            id:\n",
    "                $ref: \"#/definitions/uri\"\n",
    "            indicator:observable:\n",
    "                $ref: \"#/definitions/observable\"\n",
    "    observable:\n",
    "        type: object\n",
    "        required:\n",
    "            - id\n",
    "        properties:\n",
    "            id:\n",
    "                $ref: \"#/definitions/uri\"\n",
    "    ttps:\n",
    "        type: object\n",
    "        required:\n",
    "            - stix:ttp\n",
    "        properties:\n",
    "            stix:ttp: \n",
    "                $ref: \"#/definitions/ttp\"\n",
    "    ttp:\n",
    "        type: object\n",
    "        required:\n",
    "            - id\n",
    "        properties:\n",
    "            id:\n",
    "                $ref: \"#/definitions/uri\""
   ]
  },
  {
   "cell_type": "markdown",
   "metadata": {},
   "source": [
    "The schema can already validate the well formed document above..."
   ]
  },
  {
   "cell_type": "code",
   "execution_count": 367,
   "metadata": {
    "collapsed": false
   },
   "outputs": [
    {
     "name": "stdout",
     "output_type": "stream",
     "text": [
      "OK!\n"
     ]
    }
   ],
   "source": [
    "try:\n",
    "    jsonschema.validate(doc_with_rdfs_inference, package_schema)\n",
    "    print(\"OK!\")\n",
    "except Exception as err:\n",
    "    raise err"
   ]
  },
  {
   "cell_type": "markdown",
   "metadata": {},
   "source": [
    "but will fail against a random object..."
   ]
  },
  {
   "cell_type": "code",
   "execution_count": 368,
   "metadata": {
    "collapsed": false
   },
   "outputs": [
    {
     "name": "stdout",
     "output_type": "stream",
     "text": [
      "'type' is a required property\n"
     ]
    }
   ],
   "source": [
    "try:\n",
    "    jsonschema.validate({\"foo\": \"bar\"}, package_schema)\n",
    "    print(\"OK!\")\n",
    "except Exception as err:\n",
    "    print(err.message)"
   ]
  }
 ],
 "metadata": {
  "kernelspec": {
   "display_name": "Python 3",
   "language": "python",
   "name": "python3"
  },
  "language_info": {
   "codemirror_mode": {
    "name": "ipython",
    "version": 3
   },
   "file_extension": ".py",
   "mimetype": "text/x-python",
   "name": "python",
   "nbconvert_exporter": "python",
   "pygments_lexer": "ipython3",
   "version": "3.5.0"
  }
 },
 "nbformat": 4,
 "nbformat_minor": 0
}
